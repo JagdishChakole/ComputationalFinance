{
 "cells": [
  {
   "cell_type": "code",
   "execution_count": 1,
   "id": "6a60b81b-4bd7-4b5a-a825-e7a95a7f1a5b",
   "metadata": {},
   "outputs": [],
   "source": [
    "import pandas as pd\n",
    "import random\n",
    "import numpy as np\n",
    "import datetime\n",
    "import matplotlib.pyplot as plt\n",
    "import yfinance as yf\n",
    "import pandas_ta as ta"
   ]
  },
  {
   "cell_type": "code",
   "execution_count": 6,
   "id": "6d6fbd68-d3d1-4a1c-bbc2-ebfdb580f097",
   "metadata": {},
   "outputs": [],
   "source": [
    "# Define the Nifty 50 index symbol\n",
    "nifty50_symbol = \"^NSEI\"  # Symbol for Nifty 50 on Yahoo Finance\n",
    "#nifty50_symbol = \"SBIN\"  # Symbol for Nifty 50 on Yahoo Finance\n",
    "# Define the date range for data download\n",
    "start_date = \"2013-01-21\"  # Start date (YYYY-MM-DD)\n",
    "end_date = \"2025-02-15\"    # End date (YYYY-MM-DD)"
   ]
  },
  {
   "cell_type": "code",
   "execution_count": 7,
   "id": "52b07692-b68f-4760-baf2-aa2a4eea6b49",
   "metadata": {},
   "outputs": [
    {
     "name": "stderr",
     "output_type": "stream",
     "text": [
      "[*********************100%***********************]  1 of 1 completed\n",
      "\n",
      "1 Failed download:\n",
      "['^NSEI']: YFRateLimitError('Too Many Requests. Rate limited. Try after a while.')\n"
     ]
    }
   ],
   "source": [
    "# Download the data\n",
    "df = yf.download(nifty50_symbol, start=start_date, end=end_date)"
   ]
  },
  {
   "cell_type": "code",
   "execution_count": null,
   "id": "21489d36-ee6d-441d-9639-58cfe8e2ccaf",
   "metadata": {},
   "outputs": [],
   "source": [
    "df.tail()"
   ]
  },
  {
   "cell_type": "code",
   "execution_count": null,
   "id": "0f3725c4-7525-4ce9-b0bc-5afe5cc9a751",
   "metadata": {},
   "outputs": [],
   "source": [
    "# Convert index to datetime format if not already done\n",
    "df.index = pd.to_datetime(df.index, format='%d-%m-%Y')\n",
    "# Create 'date1' column as the same date from the index\n",
    "df['date'] = df.index\n",
    "# Extract weekday and month\n",
    "df['weekday'] = df.index.dayofweek  # Monday=0, Sunday=6\n",
    "df['month'] = df.index.month        # January=1, December=12"
   ]
  },
  {
   "cell_type": "code",
   "execution_count": null,
   "id": "093a1ad3-f134-420f-9c6c-b3bdd8bea656",
   "metadata": {},
   "outputs": [],
   "source": [
    "#df.index = pd.to_datetime(df.index)\n",
    "df = df.reset_index(drop=True)\n",
    "df.to_csv('nifty.csv', index=True) "
   ]
  },
  {
   "cell_type": "markdown",
   "id": "d01b0628-c99e-4566-9dfe-ea8becfe3d93",
   "metadata": {},
   "source": [
    "Delete econd row in nifty.cv then upload it"
   ]
  },
  {
   "cell_type": "code",
   "execution_count": null,
   "id": "b32e34b6-3d6f-4407-a15f-23345e5b61d6",
   "metadata": {},
   "outputs": [],
   "source": [
    "df = pd.read_csv('nifty.csv', index_col=0, low_memory=False)"
   ]
  },
  {
   "cell_type": "code",
   "execution_count": null,
   "id": "5d00b225-0bba-45a6-aab9-cd65c37fddd1",
   "metadata": {},
   "outputs": [],
   "source": [
    "df.head()"
   ]
  },
  {
   "cell_type": "code",
   "execution_count": null,
   "id": "8f98f075-a934-409b-b067-4840a5c4b270",
   "metadata": {},
   "outputs": [],
   "source": [
    "#df.index = pd.to_datetime(df.index)\n",
    "df = df.reset_index(drop=True)\n",
    "df.to_csv('nifty.csv', index=True) "
   ]
  },
  {
   "cell_type": "code",
   "execution_count": null,
   "id": "d223f5ff-78a0-44a9-9617-89d542a610b2",
   "metadata": {},
   "outputs": [],
   "source": []
  }
 ],
 "metadata": {
  "kernelspec": {
   "display_name": "Python 3 (ipykernel)",
   "language": "python",
   "name": "python3"
  },
  "language_info": {
   "codemirror_mode": {
    "name": "ipython",
    "version": 3
   },
   "file_extension": ".py",
   "mimetype": "text/x-python",
   "name": "python",
   "nbconvert_exporter": "python",
   "pygments_lexer": "ipython3",
   "version": "3.12.7"
  }
 },
 "nbformat": 4,
 "nbformat_minor": 5
}
